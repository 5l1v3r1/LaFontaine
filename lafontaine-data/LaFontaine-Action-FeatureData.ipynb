{
 "cells": [
  {
   "cell_type": "code",
   "execution_count": 1,
   "metadata": {
    "colab": {
     "base_uri": "https://localhost:8080/",
     "height": 34
    },
    "colab_type": "code",
    "executionInfo": {
     "elapsed": 2003,
     "status": "ok",
     "timestamp": 1545254040210,
     "user": {
      "displayName": "Umut Seven",
      "photoUrl": "https://lh5.googleusercontent.com/-2XJWX37lPMI/AAAAAAAAAAI/AAAAAAAAAUM/qlpjCmgkzwo/s64/photo.jpg",
      "userId": "04116959552671656878"
     },
     "user_tz": -180
    },
    "id": "w7O2HKDkMEln",
    "outputId": "82748167-8f42-4b3e-d17e-81cd35007f31"
   },
   "outputs": [
    {
     "name": "stdout",
     "output_type": "stream",
     "text": [
      "Drive already mounted at /content/drive; to attempt to forcibly remount, call drive.mount(\"/content/drive\", force_remount=True).\n"
     ]
    }
   ],
   "source": [
    "import tensorflow as tf\n",
    "import numpy as np\n",
    "import pandas as pd\n",
    "from sklearn.preprocessing import MinMaxScaler\n",
    "import matplotlib.pyplot as plt\n",
    "\n",
    "from google.colab import drive\n",
    "drive.mount('/content/drive')"
   ]
  },
  {
   "cell_type": "code",
   "execution_count": 0,
   "metadata": {
    "colab": {},
    "colab_type": "code",
    "id": "ziKKC0e_Pi70"
   },
   "outputs": [],
   "source": [
    "data = pd.read_csv('drive/My Drive/feature_data.csv')\n",
    "\n",
    "data = data.drop(['num'], 1)\n",
    "\n",
    "n = data.shape[0]\n",
    "p = data.shape[1]\n",
    "\n",
    "data = data.values"
   ]
  },
  {
   "cell_type": "code",
   "execution_count": 3,
   "metadata": {
    "colab": {
     "base_uri": "https://localhost:8080/",
     "height": 139
    },
    "colab_type": "code",
    "executionInfo": {
     "elapsed": 1972,
     "status": "ok",
     "timestamp": 1545254040215,
     "user": {
      "displayName": "Umut Seven",
      "photoUrl": "https://lh5.googleusercontent.com/-2XJWX37lPMI/AAAAAAAAAAI/AAAAAAAAAUM/qlpjCmgkzwo/s64/photo.jpg",
      "userId": "04116959552671656878"
     },
     "user_tz": -180
    },
    "id": "CU1rGtTTQEjA",
    "outputId": "97d520f4-e9e1-4fbb-86fd-8ebef64dd7bf"
   },
   "outputs": [
    {
     "data": {
      "text/plain": [
       "array([[ 77,   2,  62, ..., 132,   3,  93],\n",
       "       [ 99,   3,  57, ..., 107,   4,  86],\n",
       "       [ 75,   2,  61, ...,  89,   3,  67],\n",
       "       ...,\n",
       "       [ 80,   4,  73, ..., 104,   2,  80],\n",
       "       [ 61,   2,  52, ...,  75,   4,  58],\n",
       "       [ 85,   2,  71, ..., 118,   3,  84]])"
      ]
     },
     "execution_count": 3,
     "metadata": {
      "tags": []
     },
     "output_type": "execute_result"
    }
   ],
   "source": [
    "data"
   ]
  },
  {
   "cell_type": "code",
   "execution_count": 0,
   "metadata": {
    "colab": {},
    "colab_type": "code",
    "id": "Z9KRacmbO-Cc"
   },
   "outputs": [],
   "source": [
    "train_start = 0\n",
    "train_end = int(np.floor(0.8*n))\n",
    "test_start = train_end + 1\n",
    "test_end = n\n",
    "data_train = data[np.arange(train_start, train_end), :]\n",
    "data_test = data[np.arange(test_start, test_end), :]"
   ]
  },
  {
   "cell_type": "code",
   "execution_count": 5,
   "metadata": {
    "colab": {
     "base_uri": "https://localhost:8080/",
     "height": 52
    },
    "colab_type": "code",
    "executionInfo": {
     "elapsed": 1949,
     "status": "ok",
     "timestamp": 1545254040218,
     "user": {
      "displayName": "Umut Seven",
      "photoUrl": "https://lh5.googleusercontent.com/-2XJWX37lPMI/AAAAAAAAAAI/AAAAAAAAAUM/qlpjCmgkzwo/s64/photo.jpg",
      "userId": "04116959552671656878"
     },
     "user_tz": -180
    },
    "id": "FMJjfzCRPq3h",
    "outputId": "f428176e-7b6b-4b47-c94f-f713d0425dea"
   },
   "outputs": [
    {
     "name": "stderr",
     "output_type": "stream",
     "text": [
      "/usr/local/lib/python3.6/dist-packages/sklearn/utils/validation.py:595: DataConversionWarning: Data with input dtype int64 was converted to float64 by MinMaxScaler.\n",
      "  warnings.warn(msg, DataConversionWarning)\n"
     ]
    }
   ],
   "source": [
    "# This may not be needed\n",
    "scaler = MinMaxScaler(feature_range=(-1, 1))\n",
    "scaler.fit(data_train)\n",
    "data_train = scaler.transform(data_train)\n",
    "data_test = scaler.transform(data_test)"
   ]
  },
  {
   "cell_type": "code",
   "execution_count": 6,
   "metadata": {
    "colab": {
     "base_uri": "https://localhost:8080/",
     "height": 1007
    },
    "colab_type": "code",
    "executionInfo": {
     "elapsed": 1936,
     "status": "ok",
     "timestamp": 1545254040219,
     "user": {
      "displayName": "Umut Seven",
      "photoUrl": "https://lh5.googleusercontent.com/-2XJWX37lPMI/AAAAAAAAAAI/AAAAAAAAAUM/qlpjCmgkzwo/s64/photo.jpg",
      "userId": "04116959552671656878"
     },
     "user_tz": -180
    },
    "id": "sCGPPrOCTqHX",
    "outputId": "7c13e5bd-ad63-499e-a4a6-41ede6c9b23b"
   },
   "outputs": [
    {
     "data": {
      "text/plain": [
       "array([[-0.6       ,  0.33333333, -0.44      ,  0.25      ,  0.01333333,\n",
       "        -0.72      , -0.76      , -0.33333333,  0.41333333, -1.        ,\n",
       "        -0.10204082],\n",
       "       [ 0.96      ,  1.        ,  1.        , -0.70833333, -0.49333333,\n",
       "         0.16      , -0.88      ,  1.        ,  0.30666667, -1.        ,\n",
       "        -0.2244898 ],\n",
       "       [-0.4       , -0.33333333,  0.44      , -0.58333333, -0.78666667,\n",
       "        -0.76      ,  0.12      ,  1.        ,  0.76      , -1.        ,\n",
       "        -0.55102041],\n",
       "       [ 0.96      ,  1.        ,  0.92      ,  0.33333333,  0.01333333,\n",
       "         0.28      ,  0.28      ,  1.        ,  0.97333333,  0.        ,\n",
       "         0.06122449],\n",
       "       [-0.08      , -1.        , -1.        , -0.875     , -0.41333333,\n",
       "        -0.36      ,  0.6       ,  0.33333333,  0.01333333, -1.        ,\n",
       "         0.67346939],\n",
       "       [-0.6       , -1.        ,  0.28      , -0.45833333,  0.22666667,\n",
       "         0.48      , -0.04      ,  1.        , -0.57333333,  1.        ,\n",
       "         0.06122449],\n",
       "       [ 0.36      ,  0.33333333, -0.36      , -0.54166667,  0.86666667,\n",
       "         0.28      , -0.4       , -0.33333333,  0.01333333,  1.        ,\n",
       "         0.18367347],\n",
       "       [ 0.92      ,  1.        , -0.12      ,  0.91666667,  0.25333333,\n",
       "        -0.36      , -0.48      , -0.33333333, -0.62666667, -1.        ,\n",
       "        -0.75510204],\n",
       "       [ 0.24      , -0.33333333, -0.68      ,  0.08333333,  0.81333333,\n",
       "         0.88      , -0.48      ,  1.        , -0.01333333, -1.        ,\n",
       "        -0.06122449],\n",
       "       [ 0.        ,  0.33333333, -1.        ,  0.45833333,  0.94666667,\n",
       "        -0.84      , -0.2       , -1.        ,  0.73333333,  0.        ,\n",
       "         0.10204082],\n",
       "       [ 0.8       , -0.33333333, -1.        , -0.20833333, -0.92      ,\n",
       "        -0.2       ,  0.88      , -1.        ,  0.33333333,  1.        ,\n",
       "         0.06122449],\n",
       "       [-0.6       ,  1.        ,  1.        , -0.70833333, -0.30666667,\n",
       "         0.92      , -1.        ,  0.33333333, -0.33333333,  0.        ,\n",
       "        -0.3877551 ],\n",
       "       [ 1.        , -0.33333333, -0.12      ,  0.33333333, -0.86666667,\n",
       "        -0.56      ,  0.76      , -1.        , -0.30666667,  0.        ,\n",
       "        -0.30612245],\n",
       "       [-0.32      , -0.33333333,  0.76      ,  0.58333333, -0.01333333,\n",
       "        -0.24      , -0.92      , -0.33333333,  0.04      , -1.        ,\n",
       "        -0.55102041],\n",
       "       [-0.8       , -1.        ,  0.36      ,  0.08333333, -0.17333333,\n",
       "        -0.68      ,  0.04      , -0.33333333, -0.46666667,  0.        ,\n",
       "        -0.67346939],\n",
       "       [-0.84      , -1.        ,  0.52      ,  0.95833333, -0.01333333,\n",
       "        -0.96      , -0.4       ,  1.        , -0.49333333,  0.        ,\n",
       "         0.42857143],\n",
       "       [ 0.2       ,  0.33333333,  0.84      ,  0.20833333, -0.89333333,\n",
       "         0.36      , -0.16      , -0.33333333, -0.22666667, -1.        ,\n",
       "         0.2244898 ],\n",
       "       [-0.56      , -1.        , -0.84      ,  0.95833333,  0.57333333,\n",
       "        -0.2       , -0.68      ,  1.        , -1.        ,  1.        ,\n",
       "        -0.67346939],\n",
       "       [ 0.4       , -1.        ,  0.68      ,  0.        ,  0.92      ,\n",
       "        -0.92      ,  0.16      , -0.33333333,  0.14666667,  0.        ,\n",
       "         0.3877551 ]])"
      ]
     },
     "execution_count": 6,
     "metadata": {
      "tags": []
     },
     "output_type": "execute_result"
    }
   ],
   "source": [
    "data_test"
   ]
  },
  {
   "cell_type": "code",
   "execution_count": 0,
   "metadata": {
    "colab": {},
    "colab_type": "code",
    "id": "7E3kydyCPtip"
   },
   "outputs": [],
   "source": [
    "X_train = data_train[:, 1:]\n",
    "y_train = data_train[:, 0]\n",
    "X_test = data_test[:, 1:]\n",
    "y_test = data_test[:, 0]"
   ]
  },
  {
   "cell_type": "code",
   "execution_count": 8,
   "metadata": {
    "colab": {
     "base_uri": "https://localhost:8080/",
     "height": 69
    },
    "colab_type": "code",
    "executionInfo": {
     "elapsed": 1909,
     "status": "ok",
     "timestamp": 1545254040222,
     "user": {
      "displayName": "Umut Seven",
      "photoUrl": "https://lh5.googleusercontent.com/-2XJWX37lPMI/AAAAAAAAAAI/AAAAAAAAAUM/qlpjCmgkzwo/s64/photo.jpg",
      "userId": "04116959552671656878"
     },
     "user_tz": -180
    },
    "id": "KQaEgqMOUEfE",
    "outputId": "68191925-5f4f-413b-801c-f282b80bd6d8"
   },
   "outputs": [
    {
     "data": {
      "text/plain": [
       "array([-0.6 ,  0.96, -0.4 ,  0.96, -0.08, -0.6 ,  0.36,  0.92,  0.24,\n",
       "        0.  ,  0.8 , -0.6 ,  1.  , -0.32, -0.8 , -0.84,  0.2 , -0.56,\n",
       "        0.4 ])"
      ]
     },
     "execution_count": 8,
     "metadata": {
      "tags": []
     },
     "output_type": "execute_result"
    }
   ],
   "source": [
    "y_test"
   ]
  },
  {
   "cell_type": "code",
   "execution_count": 0,
   "metadata": {
    "colab": {},
    "colab_type": "code",
    "id": "Dgm1U8JEPwsh"
   },
   "outputs": [],
   "source": [
    "n_feature_data = X_train.shape[1]\n",
    "\n",
    "n_neurons_1 = 1024\n",
    "n_neurons_2 = 512\n",
    "n_neurons_3 = 256\n",
    "n_neurons_4 = 128\n",
    "\n",
    "net = tf.InteractiveSession()\n",
    "\n",
    "X = tf.placeholder(dtype=tf.float32, shape=[None, n_feature_data])\n",
    "Y = tf.placeholder(dtype=tf.float32, shape=[None])\n",
    "\n",
    "sigma = 1\n",
    "weight_initializer = tf.variance_scaling_initializer(mode=\"fan_avg\", distribution=\"uniform\", scale=sigma)\n",
    "bias_initializer = tf.zeros_initializer()\n",
    "\n",
    "W_hidden_1 = tf.Variable(weight_initializer([n_feature_data, n_neurons_1]))\n",
    "bias_hidden_1 = tf.Variable(bias_initializer([n_neurons_1]))\n",
    "W_hidden_2 = tf.Variable(weight_initializer([n_neurons_1, n_neurons_2]))\n",
    "bias_hidden_2 = tf.Variable(bias_initializer([n_neurons_2]))\n",
    "W_hidden_3 = tf.Variable(weight_initializer([n_neurons_2, n_neurons_3]))\n",
    "bias_hidden_3 = tf.Variable(bias_initializer([n_neurons_3]))\n",
    "W_hidden_4 = tf.Variable(weight_initializer([n_neurons_3, n_neurons_4]))\n",
    "bias_hidden_4 = tf.Variable(bias_initializer([n_neurons_4]))\n",
    "\n",
    "W_out = tf.Variable(weight_initializer([n_neurons_4, 1]))\n",
    "bias_out = tf.Variable(bias_initializer([1]))\n",
    "\n",
    "hidden_1 = tf.nn.relu(tf.add(tf.matmul(X, W_hidden_1), bias_hidden_1))\n",
    "hidden_2 = tf.nn.relu(tf.add(tf.matmul(hidden_1, W_hidden_2), bias_hidden_2))\n",
    "hidden_3 = tf.nn.relu(tf.add(tf.matmul(hidden_2, W_hidden_3), bias_hidden_3))\n",
    "hidden_4 = tf.nn.relu(tf.add(tf.matmul(hidden_3, W_hidden_4), bias_hidden_4))\n",
    "\n",
    "out = tf.transpose(tf.add(tf.matmul(hidden_4, W_out), bias_out))\n",
    "\n",
    "mse = tf.reduce_mean(tf.squared_difference(out, Y))\n",
    "\n",
    "opt = tf.train.AdamOptimizer().minimize(mse)\n",
    "\n",
    "net.run(tf.global_variables_initializer())"
   ]
  },
  {
   "cell_type": "code",
   "execution_count": 10,
   "metadata": {
    "colab": {
     "base_uri": "https://localhost:8080/",
     "height": 347
    },
    "colab_type": "code",
    "executionInfo": {
     "elapsed": 2743,
     "status": "ok",
     "timestamp": 1545254041090,
     "user": {
      "displayName": "Umut Seven",
      "photoUrl": "https://lh5.googleusercontent.com/-2XJWX37lPMI/AAAAAAAAAAI/AAAAAAAAAUM/qlpjCmgkzwo/s64/photo.jpg",
      "userId": "04116959552671656878"
     },
     "user_tz": -180
    },
    "id": "F0IMXTQOP1N4",
    "outputId": "111e0086-c2a5-4b39-86dd-a963f5a42338"
   },
   "outputs": [
    {
     "data": {
      "image/png": "[encoded data removed]",
      "text/plain": [
       "<matplotlib.figure.Figure at 0x7f7cb31c4ac8>"
      ]
     },
     "metadata": {
      "tags": []
     },
     "output_type": "display_data"
    }
   ],
   "source": [
    "plt.ion()\n",
    "fig = plt.figure()\n",
    "ax1 = fig.add_subplot(111)\n",
    "line1, = ax1.plot(y_test)\n",
    "line2, = ax1.plot(y_test * 0.5)\n",
    "plt.show()"
   ]
  },
  {
   "cell_type": "code",
   "execution_count": 11,
   "metadata": {
    "colab": {
     "base_uri": "https://localhost:8080/",
     "height": 1754
    },
    "colab_type": "code",
    "executionInfo": {
     "elapsed": 3050,
     "status": "ok",
     "timestamp": 1545254041416,
     "user": {
      "displayName": "Umut Seven",
      "photoUrl": "https://lh5.googleusercontent.com/-2XJWX37lPMI/AAAAAAAAAAI/AAAAAAAAAUM/qlpjCmgkzwo/s64/photo.jpg",
      "userId": "04116959552671656878"
     },
     "user_tz": -180
    },
    "id": "vUqrtTEHP9Vq",
    "outputId": "5c7e29b4-2e45-422a-944e-24e0790fdd9f"
   },
   "outputs": [
    {
     "name": "stdout",
     "output_type": "stream",
     "text": [
      "Epoch 0\n",
      "Epoch 1\n",
      "Epoch 2\n",
      "Epoch 3\n",
      "Epoch 4\n",
      "Epoch 5\n",
      "Epoch 6\n",
      "Epoch 7\n",
      "Epoch 8\n",
      "Epoch 9\n",
      "Epoch 10\n",
      "Epoch 11\n",
      "Epoch 12\n",
      "Epoch 13\n",
      "Epoch 14\n",
      "Epoch 15\n",
      "Epoch 16\n",
      "Epoch 17\n",
      "Epoch 18\n",
      "Epoch 19\n",
      "Epoch 20\n",
      "Epoch 21\n",
      "Epoch 22\n",
      "Epoch 23\n",
      "Epoch 24\n",
      "Epoch 25\n",
      "Epoch 26\n",
      "Epoch 27\n",
      "Epoch 28\n",
      "Epoch 29\n",
      "Epoch 30\n",
      "Epoch 31\n",
      "Epoch 32\n",
      "Epoch 33\n",
      "Epoch 34\n",
      "Epoch 35\n",
      "Epoch 36\n",
      "Epoch 37\n",
      "Epoch 38\n",
      "Epoch 39\n",
      "Epoch 40\n",
      "Epoch 41\n",
      "Epoch 42\n",
      "Epoch 43\n",
      "Epoch 44\n",
      "Epoch 45\n",
      "Epoch 46\n",
      "Epoch 47\n",
      "Epoch 48\n",
      "Epoch 49\n",
      "Epoch 50\n",
      "Epoch 51\n",
      "Epoch 52\n",
      "Epoch 53\n",
      "Epoch 54\n",
      "Epoch 55\n",
      "Epoch 56\n",
      "Epoch 57\n",
      "Epoch 58\n",
      "Epoch 59\n",
      "Epoch 60\n",
      "Epoch 61\n",
      "Epoch 62\n",
      "Epoch 63\n",
      "Epoch 64\n",
      "Epoch 65\n",
      "Epoch 66\n",
      "Epoch 67\n",
      "Epoch 68\n",
      "Epoch 69\n",
      "Epoch 70\n",
      "Epoch 71\n",
      "Epoch 72\n",
      "Epoch 73\n",
      "Epoch 74\n",
      "Epoch 75\n",
      "Epoch 76\n",
      "Epoch 77\n",
      "Epoch 78\n",
      "Epoch 79\n",
      "Epoch 80\n",
      "Epoch 81\n",
      "Epoch 82\n",
      "Epoch 83\n",
      "Epoch 84\n",
      "Epoch 85\n",
      "Epoch 86\n",
      "Epoch 87\n",
      "Epoch 88\n",
      "Epoch 89\n",
      "Epoch 90\n",
      "Epoch 91\n",
      "Epoch 92\n",
      "Epoch 93\n",
      "Epoch 94\n",
      "Epoch 95\n",
      "Epoch 96\n",
      "Epoch 97\n",
      "Epoch 98\n",
      "Epoch 99\n"
     ]
    }
   ],
   "source": [
    "batch_size = 256\n",
    "mse_train = []\n",
    "mse_test = []\n",
    "\n",
    "epochs = 100\n",
    "for e in range(epochs):\n",
    "    print(f'Epoch {e}')\n",
    "\n",
    "    shuffle_indices = np.random.permutation(np.arange(len(y_train)))\n",
    "    X_train = X_train[shuffle_indices]\n",
    "    y_train = y_train[shuffle_indices]\n",
    "\n",
    "    for i in range(0, len(y_train) // batch_size):\n",
    "        start = i * batch_size\n",
    "        batch_x = X_train[start:start + batch_size]\n",
    "        batch_y = y_train[start:start + batch_size]\n",
    "\n",
    "        net.run(opt, feed_dict={X: batch_x, Y: batch_y})\n",
    "\n",
    "        if np.mod(i, 50) == 0:\n",
    "            mse_train.append(net.run(mse, feed_dict={X: X_train, Y: y_train}))\n",
    "            mse_test.append(net.run(mse, feed_dict={X: X_test, Y: y_test}))\n",
    "            print('MSE Train: ', mse_train[-1])\n",
    "            print('MSE Test: ', mse_test[-1])     "
   ]
  },
  {
   "cell_type": "code",
   "execution_count": 14,
   "metadata": {
    "colab": {
     "base_uri": "https://localhost:8080/",
     "height": 86
    },
    "colab_type": "code",
    "executionInfo": {
     "elapsed": 602,
     "status": "ok",
     "timestamp": 1545254119260,
     "user": {
      "displayName": "Umut Seven",
      "photoUrl": "https://lh5.googleusercontent.com/-2XJWX37lPMI/AAAAAAAAAAI/AAAAAAAAAUM/qlpjCmgkzwo/s64/photo.jpg",
      "userId": "04116959552671656878"
     },
     "user_tz": -180
    },
    "id": "aXdVDGu0Q3C2",
    "outputId": "5d7548c3-60a6-4f26-8eab-61087f7f1b12"
   },
   "outputs": [
    {
     "name": "stdout",
     "output_type": "stream",
     "text": [
      "[[0.06606586 0.02034719 0.01566931 0.00296878 0.03699706 0.00748884\n",
      "  0.02690359 0.0603521  0.05557031 0.05963744 0.03104179 0.02656827\n",
      "  0.02779786 0.02574066 0.04419205 0.01502654 0.03494918 0.06493489\n",
      "  0.03819852]]\n"
     ]
    }
   ],
   "source": [
    "output_final = net.run(out, feed_dict={X: X_test, Y: y_test})\n",
    "print(output_final)"
   ]
  }
 ],
 "metadata": {
  "colab": {
   "name": "Untitled3.ipynb",
   "provenance": [],
   "version": "0.3.2"
  },
  "kernelspec": {
   "display_name": "Python 3",
   "language": "python",
   "name": "python3"
  },
  "language_info": {
   "codemirror_mode": {
    "name": "ipython",
    "version": 3
   },
   "file_extension": ".py",
   "mimetype": "text/x-python",
   "name": "python",
   "nbconvert_exporter": "python",
   "pygments_lexer": "ipython3",
   "version": "3.7.0"
  }
 },
 "nbformat": 4,
 "nbformat_minor": 1
}
