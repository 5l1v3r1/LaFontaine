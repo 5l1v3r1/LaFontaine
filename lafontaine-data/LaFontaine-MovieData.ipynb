{
 "cells": [
  {
   "cell_type": "code",
   "execution_count": 0,
   "metadata": {
    "colab": {
     "base_uri": "https://localhost:8080/",
     "height": 34
    },
    "colab_type": "code",
    "executionInfo": {
     "elapsed": 3669,
     "status": "ok",
     "timestamp": 1545099727484,
     "user": {
      "displayName": "Umut Seven",
      "photoUrl": "https://lh5.googleusercontent.com/-2XJWX37lPMI/AAAAAAAAAAI/AAAAAAAAAUM/qlpjCmgkzwo/s64/photo.jpg",
      "userId": "04116959552671656878"
     },
     "user_tz": -180
    },
    "id": "Nq-_ARHJp4vO",
    "outputId": "70a79a66-315c-405f-8d05-8905512dbb77"
   },
   "outputs": [
    {
     "name": "stdout",
     "output_type": "stream",
     "text": [
      "Drive already mounted at /content/drive; to attempt to forcibly remount, call drive.mount(\"/content/drive\", force_remount=True).\n"
     ]
    }
   ],
   "source": [
    "import pathlib\n",
    "\n",
    "import pandas as pd\n",
    "import seaborn as sns\n",
    "import matplotlib.pyplot as plt\n",
    "\n",
    "import tensorflow as tf\n",
    "from tensorflow import keras\n",
    "from tensorflow.keras import layers"
   ]
  },
  {
   "cell_type": "code",
   "execution_count": 0,
   "metadata": {
    "colab": {
     "base_uri": "https://localhost:8080/",
     "height": 206
    },
    "colab_type": "code",
    "executionInfo": {
     "elapsed": 3551,
     "status": "ok",
     "timestamp": 1545099727509,
     "user": {
      "displayName": "Umut Seven",
      "photoUrl": "https://lh5.googleusercontent.com/-2XJWX37lPMI/AAAAAAAAAAI/AAAAAAAAAUM/qlpjCmgkzwo/s64/photo.jpg",
      "userId": "04116959552671656878"
     },
     "user_tz": -180
    },
    "id": "_lY8hPgnqwmg",
    "outputId": "e065b963-3065-496b-c0cc-fa10b7ca74d4"
   },
   "outputs": [
    {
     "data": {
      "text/html": [
       "<div>\n",
       "<style scoped>\n",
       "    .dataframe tbody tr th:only-of-type {\n",
       "        vertical-align: middle;\n",
       "    }\n",
       "\n",
       "    .dataframe tbody tr th {\n",
       "        vertical-align: top;\n",
       "    }\n",
       "\n",
       "    .dataframe thead th {\n",
       "        text-align: right;\n",
       "    }\n",
       "</style>\n",
       "<table border=\"1\" class=\"dataframe\">\n",
       "  <thead>\n",
       "    <tr style=\"text-align: right;\">\n",
       "      <th></th>\n",
       "      <th>Movie Title</th>\n",
       "      <th>Genre</th>\n",
       "      <th>Movie Duration</th>\n",
       "      <th>Trailer Duration</th>\n",
       "    </tr>\n",
       "  </thead>\n",
       "  <tbody>\n",
       "    <tr>\n",
       "      <th>5023</th>\n",
       "      <td>Signed Sealed Delivered</td>\n",
       "      <td>Comedy|Drama</td>\n",
       "      <td>5220</td>\n",
       "      <td>61</td>\n",
       "    </tr>\n",
       "    <tr>\n",
       "      <th>5024</th>\n",
       "      <td>The Following</td>\n",
       "      <td>Crime|Drama|Mystery|Thriller</td>\n",
       "      <td>2580</td>\n",
       "      <td>231</td>\n",
       "    </tr>\n",
       "    <tr>\n",
       "      <th>5025</th>\n",
       "      <td>A Plague So Pleasant</td>\n",
       "      <td>Drama|Horror|Thriller</td>\n",
       "      <td>4560</td>\n",
       "      <td>75</td>\n",
       "    </tr>\n",
       "    <tr>\n",
       "      <th>5026</th>\n",
       "      <td>Shanghai Calling</td>\n",
       "      <td>Comedy|Drama|Romance</td>\n",
       "      <td>6000</td>\n",
       "      <td>142</td>\n",
       "    </tr>\n",
       "    <tr>\n",
       "      <th>5027</th>\n",
       "      <td>My Date with Drew</td>\n",
       "      <td>Documentary</td>\n",
       "      <td>5400</td>\n",
       "      <td>126</td>\n",
       "    </tr>\n",
       "  </tbody>\n",
       "</table>\n",
       "</div>"
      ],
      "text/plain": [
       "                  Movie Title                         Genre  Movie Duration  \\\n",
       "5023  Signed Sealed Delivered                  Comedy|Drama            5220   \n",
       "5024            The Following  Crime|Drama|Mystery|Thriller            2580   \n",
       "5025     A Plague So Pleasant         Drama|Horror|Thriller            4560   \n",
       "5026         Shanghai Calling          Comedy|Drama|Romance            6000   \n",
       "5027        My Date with Drew                   Documentary            5400   \n",
       "\n",
       "      Trailer Duration  \n",
       "5023                61  \n",
       "5024               231  \n",
       "5025                75  \n",
       "5026               142  \n",
       "5027               126  "
      ]
     },
     "execution_count": 2,
     "metadata": {
      "tags": []
     },
     "output_type": "execute_result"
    }
   ],
   "source": [
    "column_names = ['Movie Title', 'Genre', 'Movie Duration', 'Trailer Duration']\n",
    "\n",
    "dataset_path = './movie_data.csv'\n",
    "\n",
    "raw_dataset = pd.read_csv(dataset_path, names=column_names,\n",
    "                      na_values = \"?\", comment='\\t',\n",
    "                      sep=\",\")\n",
    "\n",
    "dataset = raw_dataset.copy()\n",
    "dataset.tail()"
   ]
  },
  {
   "cell_type": "code",
   "execution_count": 0,
   "metadata": {
    "colab": {
     "base_uri": "https://localhost:8080/",
     "height": 244
    },
    "colab_type": "code",
    "executionInfo": {
     "elapsed": 3362,
     "status": "ok",
     "timestamp": 1545099727520,
     "user": {
      "displayName": "Umut Seven",
      "photoUrl": "https://lh5.googleusercontent.com/-2XJWX37lPMI/AAAAAAAAAAI/AAAAAAAAAUM/qlpjCmgkzwo/s64/photo.jpg",
      "userId": "04116959552671656878"
     },
     "user_tz": -180
    },
    "id": "Bu0Wbbjzxay7",
    "outputId": "61b6a6a6-224d-438e-858b-3c3bce900335"
   },
   "outputs": [
    {
     "data": {
      "text/html": [
       "<div>\n",
       "<style scoped>\n",
       "    .dataframe tbody tr th:only-of-type {\n",
       "        vertical-align: middle;\n",
       "    }\n",
       "\n",
       "    .dataframe tbody tr th {\n",
       "        vertical-align: top;\n",
       "    }\n",
       "\n",
       "    .dataframe thead th {\n",
       "        text-align: right;\n",
       "    }\n",
       "</style>\n",
       "<table border=\"1\" class=\"dataframe\">\n",
       "  <thead>\n",
       "    <tr style=\"text-align: right;\">\n",
       "      <th></th>\n",
       "      <th>Trailer Duration</th>\n",
       "      <th>Action</th>\n",
       "      <th>Comedy</th>\n",
       "      <th>Drama</th>\n",
       "      <th>Mystery</th>\n",
       "      <th>Thriller</th>\n",
       "      <th>Romance</th>\n",
       "      <th>Crime</th>\n",
       "      <th>Horror</th>\n",
       "      <th>Documentary</th>\n",
       "      <th>Sci-Fi</th>\n",
       "      <th>Music</th>\n",
       "      <th>Fantasy</th>\n",
       "      <th>Western</th>\n",
       "      <th>Biography</th>\n",
       "      <th>Adventure</th>\n",
       "      <th>Animation</th>\n",
       "      <th>Family</th>\n",
       "      <th>Sport</th>\n",
       "    </tr>\n",
       "  </thead>\n",
       "  <tbody>\n",
       "    <tr>\n",
       "      <th>5023</th>\n",
       "      <td>61</td>\n",
       "      <td>0.0</td>\n",
       "      <td>1.0</td>\n",
       "      <td>0.0</td>\n",
       "      <td>0.0</td>\n",
       "      <td>0.0</td>\n",
       "      <td>0.0</td>\n",
       "      <td>0.0</td>\n",
       "      <td>0.0</td>\n",
       "      <td>0.0</td>\n",
       "      <td>0.0</td>\n",
       "      <td>0.0</td>\n",
       "      <td>0.0</td>\n",
       "      <td>0.0</td>\n",
       "      <td>0.0</td>\n",
       "      <td>0.0</td>\n",
       "      <td>0.0</td>\n",
       "      <td>0.0</td>\n",
       "      <td>0.0</td>\n",
       "    </tr>\n",
       "    <tr>\n",
       "      <th>5024</th>\n",
       "      <td>231</td>\n",
       "      <td>0.0</td>\n",
       "      <td>0.0</td>\n",
       "      <td>0.0</td>\n",
       "      <td>0.0</td>\n",
       "      <td>0.0</td>\n",
       "      <td>0.0</td>\n",
       "      <td>1.0</td>\n",
       "      <td>0.0</td>\n",
       "      <td>0.0</td>\n",
       "      <td>0.0</td>\n",
       "      <td>0.0</td>\n",
       "      <td>0.0</td>\n",
       "      <td>0.0</td>\n",
       "      <td>0.0</td>\n",
       "      <td>0.0</td>\n",
       "      <td>0.0</td>\n",
       "      <td>0.0</td>\n",
       "      <td>0.0</td>\n",
       "    </tr>\n",
       "    <tr>\n",
       "      <th>5025</th>\n",
       "      <td>75</td>\n",
       "      <td>0.0</td>\n",
       "      <td>0.0</td>\n",
       "      <td>1.0</td>\n",
       "      <td>0.0</td>\n",
       "      <td>0.0</td>\n",
       "      <td>0.0</td>\n",
       "      <td>0.0</td>\n",
       "      <td>0.0</td>\n",
       "      <td>0.0</td>\n",
       "      <td>0.0</td>\n",
       "      <td>0.0</td>\n",
       "      <td>0.0</td>\n",
       "      <td>0.0</td>\n",
       "      <td>0.0</td>\n",
       "      <td>0.0</td>\n",
       "      <td>0.0</td>\n",
       "      <td>0.0</td>\n",
       "      <td>0.0</td>\n",
       "    </tr>\n",
       "    <tr>\n",
       "      <th>5026</th>\n",
       "      <td>142</td>\n",
       "      <td>0.0</td>\n",
       "      <td>1.0</td>\n",
       "      <td>0.0</td>\n",
       "      <td>0.0</td>\n",
       "      <td>0.0</td>\n",
       "      <td>0.0</td>\n",
       "      <td>0.0</td>\n",
       "      <td>0.0</td>\n",
       "      <td>0.0</td>\n",
       "      <td>0.0</td>\n",
       "      <td>0.0</td>\n",
       "      <td>0.0</td>\n",
       "      <td>0.0</td>\n",
       "      <td>0.0</td>\n",
       "      <td>0.0</td>\n",
       "      <td>0.0</td>\n",
       "      <td>0.0</td>\n",
       "      <td>0.0</td>\n",
       "    </tr>\n",
       "    <tr>\n",
       "      <th>5027</th>\n",
       "      <td>126</td>\n",
       "      <td>0.0</td>\n",
       "      <td>0.0</td>\n",
       "      <td>0.0</td>\n",
       "      <td>0.0</td>\n",
       "      <td>0.0</td>\n",
       "      <td>0.0</td>\n",
       "      <td>0.0</td>\n",
       "      <td>0.0</td>\n",
       "      <td>1.0</td>\n",
       "      <td>0.0</td>\n",
       "      <td>0.0</td>\n",
       "      <td>0.0</td>\n",
       "      <td>0.0</td>\n",
       "      <td>0.0</td>\n",
       "      <td>0.0</td>\n",
       "      <td>0.0</td>\n",
       "      <td>0.0</td>\n",
       "      <td>0.0</td>\n",
       "    </tr>\n",
       "  </tbody>\n",
       "</table>\n",
       "</div>"
      ],
      "text/plain": [
       "      Trailer Duration  Action  Comedy  Drama  Mystery  Thriller  Romance  \\\n",
       "5023                61     0.0     1.0    0.0      0.0       0.0      0.0   \n",
       "5024               231     0.0     0.0    0.0      0.0       0.0      0.0   \n",
       "5025                75     0.0     0.0    1.0      0.0       0.0      0.0   \n",
       "5026               142     0.0     1.0    0.0      0.0       0.0      0.0   \n",
       "5027               126     0.0     0.0    0.0      0.0       0.0      0.0   \n",
       "\n",
       "      Crime  Horror  Documentary  Sci-Fi  Music  Fantasy  Western  Biography  \\\n",
       "5023    0.0     0.0          0.0     0.0    0.0      0.0      0.0        0.0   \n",
       "5024    1.0     0.0          0.0     0.0    0.0      0.0      0.0        0.0   \n",
       "5025    0.0     0.0          0.0     0.0    0.0      0.0      0.0        0.0   \n",
       "5026    0.0     0.0          0.0     0.0    0.0      0.0      0.0        0.0   \n",
       "5027    0.0     0.0          1.0     0.0    0.0      0.0      0.0        0.0   \n",
       "\n",
       "      Adventure  Animation  Family  Sport  \n",
       "5023        0.0        0.0     0.0    0.0  \n",
       "5024        0.0        0.0     0.0    0.0  \n",
       "5025        0.0        0.0     0.0    0.0  \n",
       "5026        0.0        0.0     0.0    0.0  \n",
       "5027        0.0        0.0     0.0    0.0  "
      ]
     },
     "execution_count": 3,
     "metadata": {
      "tags": []
     },
     "output_type": "execute_result"
    }
   ],
   "source": [
    "def get_genre_from_string(genre):\n",
    "  if genre == 'Action':\n",
    "    return 1\n",
    "\n",
    "dataset.pop('Movie Title')\n",
    "dataset.pop('Movie Duration')\n",
    "\n",
    "origin = dataset.pop('Genre')\n",
    "dataset['Action'] = origin.str.startswith('Action')*1.0\n",
    "dataset['Comedy'] = origin.str.startswith('Comedy')*1.0\n",
    "dataset['Drama'] = origin.str.startswith('Drama')*1.0\n",
    "dataset['Mystery'] = origin.str.startswith('Mystery')*1.0\n",
    "dataset['Thriller'] = origin.str.startswith('Thriller')*1.0\n",
    "dataset['Romance'] = origin.str.startswith('Romance')*1.0\n",
    "dataset['Crime'] = origin.str.startswith('Crime')*1.0\n",
    "dataset['Horror'] = origin.str.startswith('Horror')*1.0\n",
    "dataset['Documentary'] = origin.str.startswith('Documentary')*1.0\n",
    "dataset['Sci-Fi'] = origin.str.startswith('Sci-Fi')*1.0\n",
    "dataset['Music'] = origin.str.startswith('Music')*1.0\n",
    "dataset['Fantasy'] = origin.str.startswith('Fantasy')*1.0\n",
    "dataset['Western'] = origin.str.startswith('Western')*1.0\n",
    "dataset['Biography'] = origin.str.startswith('Biography')*1.0\n",
    "dataset['Adventure'] = origin.str.startswith('Adventure')*1.0\n",
    "dataset['Animation'] = origin.str.startswith('Animation')*1.0\n",
    "dataset['Family'] = origin.str.startswith('Family')*1.0\n",
    "dataset['Sport'] = origin.str.startswith('Sport')*1.0\n",
    "\n",
    "dataset.tail()"
   ]
  },
  {
   "cell_type": "code",
   "execution_count": 0,
   "metadata": {
    "colab": {},
    "colab_type": "code",
    "id": "vY3A44CsuFQ2"
   },
   "outputs": [],
   "source": [
    "train_dataset = dataset.sample(frac=0.8,random_state=0)\n",
    "test_dataset = dataset.drop(train_dataset.index)"
   ]
  },
  {
   "cell_type": "code",
   "execution_count": 0,
   "metadata": {
    "colab": {
     "base_uri": "https://localhost:8080/",
     "height": 382
    },
    "colab_type": "code",
    "executionInfo": {
     "elapsed": 3869,
     "status": "ok",
     "timestamp": 1545099728154,
     "user": {
      "displayName": "Umut Seven",
      "photoUrl": "https://lh5.googleusercontent.com/-2XJWX37lPMI/AAAAAAAAAAI/AAAAAAAAAUM/qlpjCmgkzwo/s64/photo.jpg",
      "userId": "04116959552671656878"
     },
     "user_tz": -180
    },
    "id": "f-mF4fjBuSi3",
    "outputId": "e2209cb0-fc32-4ed5-b509-a90dffb95630"
   },
   "outputs": [
    {
     "data": {
      "text/plain": [
       "<seaborn.axisgrid.PairGrid at 0x7f1cfada45c0>"
      ]
     },
     "execution_count": 5,
     "metadata": {
      "tags": []
     },
     "output_type": "execute_result"
    },
    {
     "data": {
      "image/png": "[encoded data removed]",
      "text/plain": [
       "<matplotlib.figure.Figure at 0x7f1d2462ec88>"
      ]
     },
     "metadata": {
      "tags": []
     },
     "output_type": "display_data"
    }
   ],
   "source": [
    "sns.pairplot(train_dataset[[\"Action\", \"Trailer Duration\"]], diag_kind=\"kde\")"
   ]
  },
  {
   "cell_type": "code",
   "execution_count": 0,
   "metadata": {
    "colab": {
     "base_uri": "https://localhost:8080/",
     "height": 614
    },
    "colab_type": "code",
    "executionInfo": {
     "elapsed": 3766,
     "status": "ok",
     "timestamp": 1545099728168,
     "user": {
      "displayName": "Umut Seven",
      "photoUrl": "https://lh5.googleusercontent.com/-2XJWX37lPMI/AAAAAAAAAAI/AAAAAAAAAUM/qlpjCmgkzwo/s64/photo.jpg",
      "userId": "04116959552671656878"
     },
     "user_tz": -180
    },
    "id": "kvoNLjumu3yY",
    "outputId": "61771d02-537d-4a0c-8530-5a33ba117b64"
   },
   "outputs": [
    {
     "data": {
      "text/html": [
       "<div>\n",
       "<style scoped>\n",
       "    .dataframe tbody tr th:only-of-type {\n",
       "        vertical-align: middle;\n",
       "    }\n",
       "\n",
       "    .dataframe tbody tr th {\n",
       "        vertical-align: top;\n",
       "    }\n",
       "\n",
       "    .dataframe thead th {\n",
       "        text-align: right;\n",
       "    }\n",
       "</style>\n",
       "<table border=\"1\" class=\"dataframe\">\n",
       "  <thead>\n",
       "    <tr style=\"text-align: right;\">\n",
       "      <th></th>\n",
       "      <th>count</th>\n",
       "      <th>mean</th>\n",
       "      <th>std</th>\n",
       "      <th>min</th>\n",
       "      <th>25%</th>\n",
       "      <th>50%</th>\n",
       "      <th>75%</th>\n",
       "      <th>max</th>\n",
       "    </tr>\n",
       "  </thead>\n",
       "  <tbody>\n",
       "    <tr>\n",
       "      <th>Action</th>\n",
       "      <td>4022.0</td>\n",
       "      <td>0.224515</td>\n",
       "      <td>0.417315</td>\n",
       "      <td>0.0</td>\n",
       "      <td>0.0</td>\n",
       "      <td>0.0</td>\n",
       "      <td>0.0</td>\n",
       "      <td>1.0</td>\n",
       "    </tr>\n",
       "    <tr>\n",
       "      <th>Comedy</th>\n",
       "      <td>4022.0</td>\n",
       "      <td>0.264545</td>\n",
       "      <td>0.441145</td>\n",
       "      <td>0.0</td>\n",
       "      <td>0.0</td>\n",
       "      <td>0.0</td>\n",
       "      <td>1.0</td>\n",
       "      <td>1.0</td>\n",
       "    </tr>\n",
       "    <tr>\n",
       "      <th>Drama</th>\n",
       "      <td>4022.0</td>\n",
       "      <td>0.190453</td>\n",
       "      <td>0.392707</td>\n",
       "      <td>0.0</td>\n",
       "      <td>0.0</td>\n",
       "      <td>0.0</td>\n",
       "      <td>0.0</td>\n",
       "      <td>1.0</td>\n",
       "    </tr>\n",
       "    <tr>\n",
       "      <th>Mystery</th>\n",
       "      <td>4022.0</td>\n",
       "      <td>0.006962</td>\n",
       "      <td>0.083156</td>\n",
       "      <td>0.0</td>\n",
       "      <td>0.0</td>\n",
       "      <td>0.0</td>\n",
       "      <td>0.0</td>\n",
       "      <td>1.0</td>\n",
       "    </tr>\n",
       "    <tr>\n",
       "      <th>Thriller</th>\n",
       "      <td>4022.0</td>\n",
       "      <td>0.004227</td>\n",
       "      <td>0.064884</td>\n",
       "      <td>0.0</td>\n",
       "      <td>0.0</td>\n",
       "      <td>0.0</td>\n",
       "      <td>0.0</td>\n",
       "      <td>1.0</td>\n",
       "    </tr>\n",
       "    <tr>\n",
       "      <th>Romance</th>\n",
       "      <td>4022.0</td>\n",
       "      <td>0.000746</td>\n",
       "      <td>0.027304</td>\n",
       "      <td>0.0</td>\n",
       "      <td>0.0</td>\n",
       "      <td>0.0</td>\n",
       "      <td>0.0</td>\n",
       "      <td>1.0</td>\n",
       "    </tr>\n",
       "    <tr>\n",
       "      <th>Crime</th>\n",
       "      <td>4022.0</td>\n",
       "      <td>0.070860</td>\n",
       "      <td>0.256623</td>\n",
       "      <td>0.0</td>\n",
       "      <td>0.0</td>\n",
       "      <td>0.0</td>\n",
       "      <td>0.0</td>\n",
       "      <td>1.0</td>\n",
       "    </tr>\n",
       "    <tr>\n",
       "      <th>Horror</th>\n",
       "      <td>4022.0</td>\n",
       "      <td>0.047240</td>\n",
       "      <td>0.212179</td>\n",
       "      <td>0.0</td>\n",
       "      <td>0.0</td>\n",
       "      <td>0.0</td>\n",
       "      <td>0.0</td>\n",
       "      <td>1.0</td>\n",
       "    </tr>\n",
       "    <tr>\n",
       "      <th>Documentary</th>\n",
       "      <td>4022.0</td>\n",
       "      <td>0.016410</td>\n",
       "      <td>0.127061</td>\n",
       "      <td>0.0</td>\n",
       "      <td>0.0</td>\n",
       "      <td>0.0</td>\n",
       "      <td>0.0</td>\n",
       "      <td>1.0</td>\n",
       "    </tr>\n",
       "    <tr>\n",
       "      <th>Sci-Fi</th>\n",
       "      <td>4022.0</td>\n",
       "      <td>0.002486</td>\n",
       "      <td>0.049807</td>\n",
       "      <td>0.0</td>\n",
       "      <td>0.0</td>\n",
       "      <td>0.0</td>\n",
       "      <td>0.0</td>\n",
       "      <td>1.0</td>\n",
       "    </tr>\n",
       "    <tr>\n",
       "      <th>Music</th>\n",
       "      <td>4022.0</td>\n",
       "      <td>0.001243</td>\n",
       "      <td>0.035241</td>\n",
       "      <td>0.0</td>\n",
       "      <td>0.0</td>\n",
       "      <td>0.0</td>\n",
       "      <td>0.0</td>\n",
       "      <td>1.0</td>\n",
       "    </tr>\n",
       "    <tr>\n",
       "      <th>Fantasy</th>\n",
       "      <td>4022.0</td>\n",
       "      <td>0.009199</td>\n",
       "      <td>0.095483</td>\n",
       "      <td>0.0</td>\n",
       "      <td>0.0</td>\n",
       "      <td>0.0</td>\n",
       "      <td>0.0</td>\n",
       "      <td>1.0</td>\n",
       "    </tr>\n",
       "    <tr>\n",
       "      <th>Western</th>\n",
       "      <td>4022.0</td>\n",
       "      <td>0.002238</td>\n",
       "      <td>0.047257</td>\n",
       "      <td>0.0</td>\n",
       "      <td>0.0</td>\n",
       "      <td>0.0</td>\n",
       "      <td>0.0</td>\n",
       "      <td>1.0</td>\n",
       "    </tr>\n",
       "    <tr>\n",
       "      <th>Biography</th>\n",
       "      <td>4022.0</td>\n",
       "      <td>0.053207</td>\n",
       "      <td>0.224475</td>\n",
       "      <td>0.0</td>\n",
       "      <td>0.0</td>\n",
       "      <td>0.0</td>\n",
       "      <td>0.0</td>\n",
       "      <td>1.0</td>\n",
       "    </tr>\n",
       "    <tr>\n",
       "      <th>Adventure</th>\n",
       "      <td>4022.0</td>\n",
       "      <td>0.091994</td>\n",
       "      <td>0.289053</td>\n",
       "      <td>0.0</td>\n",
       "      <td>0.0</td>\n",
       "      <td>0.0</td>\n",
       "      <td>0.0</td>\n",
       "      <td>1.0</td>\n",
       "    </tr>\n",
       "    <tr>\n",
       "      <th>Animation</th>\n",
       "      <td>4022.0</td>\n",
       "      <td>0.011437</td>\n",
       "      <td>0.106344</td>\n",
       "      <td>0.0</td>\n",
       "      <td>0.0</td>\n",
       "      <td>0.0</td>\n",
       "      <td>0.0</td>\n",
       "      <td>1.0</td>\n",
       "    </tr>\n",
       "    <tr>\n",
       "      <th>Family</th>\n",
       "      <td>4022.0</td>\n",
       "      <td>0.001740</td>\n",
       "      <td>0.041687</td>\n",
       "      <td>0.0</td>\n",
       "      <td>0.0</td>\n",
       "      <td>0.0</td>\n",
       "      <td>0.0</td>\n",
       "      <td>1.0</td>\n",
       "    </tr>\n",
       "    <tr>\n",
       "      <th>Sport</th>\n",
       "      <td>4022.0</td>\n",
       "      <td>0.000000</td>\n",
       "      <td>0.000000</td>\n",
       "      <td>0.0</td>\n",
       "      <td>0.0</td>\n",
       "      <td>0.0</td>\n",
       "      <td>0.0</td>\n",
       "      <td>0.0</td>\n",
       "    </tr>\n",
       "  </tbody>\n",
       "</table>\n",
       "</div>"
      ],
      "text/plain": [
       "              count      mean       std  min  25%  50%  75%  max\n",
       "Action       4022.0  0.224515  0.417315  0.0  0.0  0.0  0.0  1.0\n",
       "Comedy       4022.0  0.264545  0.441145  0.0  0.0  0.0  1.0  1.0\n",
       "Drama        4022.0  0.190453  0.392707  0.0  0.0  0.0  0.0  1.0\n",
       "Mystery      4022.0  0.006962  0.083156  0.0  0.0  0.0  0.0  1.0\n",
       "Thriller     4022.0  0.004227  0.064884  0.0  0.0  0.0  0.0  1.0\n",
       "Romance      4022.0  0.000746  0.027304  0.0  0.0  0.0  0.0  1.0\n",
       "Crime        4022.0  0.070860  0.256623  0.0  0.0  0.0  0.0  1.0\n",
       "Horror       4022.0  0.047240  0.212179  0.0  0.0  0.0  0.0  1.0\n",
       "Documentary  4022.0  0.016410  0.127061  0.0  0.0  0.0  0.0  1.0\n",
       "Sci-Fi       4022.0  0.002486  0.049807  0.0  0.0  0.0  0.0  1.0\n",
       "Music        4022.0  0.001243  0.035241  0.0  0.0  0.0  0.0  1.0\n",
       "Fantasy      4022.0  0.009199  0.095483  0.0  0.0  0.0  0.0  1.0\n",
       "Western      4022.0  0.002238  0.047257  0.0  0.0  0.0  0.0  1.0\n",
       "Biography    4022.0  0.053207  0.224475  0.0  0.0  0.0  0.0  1.0\n",
       "Adventure    4022.0  0.091994  0.289053  0.0  0.0  0.0  0.0  1.0\n",
       "Animation    4022.0  0.011437  0.106344  0.0  0.0  0.0  0.0  1.0\n",
       "Family       4022.0  0.001740  0.041687  0.0  0.0  0.0  0.0  1.0\n",
       "Sport        4022.0  0.000000  0.000000  0.0  0.0  0.0  0.0  0.0"
      ]
     },
     "execution_count": 6,
     "metadata": {
      "tags": []
     },
     "output_type": "execute_result"
    }
   ],
   "source": [
    "train_stats = train_dataset.describe()\n",
    "train_stats.pop('Trailer Duration')\n",
    "train_stats = train_stats.transpose()\n",
    "train_stats"
   ]
  },
  {
   "cell_type": "code",
   "execution_count": 0,
   "metadata": {
    "colab": {},
    "colab_type": "code",
    "id": "c1sIXnRHvDr6"
   },
   "outputs": [],
   "source": [
    "train_labels = train_dataset.pop('Trailer Duration')\n",
    "test_labels = test_dataset.pop('Trailer Duration')"
   ]
  },
  {
   "cell_type": "code",
   "execution_count": 0,
   "metadata": {
    "colab": {},
    "colab_type": "code",
    "id": "t_BoXa01-8lw"
   },
   "outputs": [],
   "source": [
    "def norm(x):\n",
    "  return (x - train_stats['mean']) / train_stats['std']\n",
    "normed_train_data = (train_dataset)\n",
    "normed_test_data = (test_dataset)"
   ]
  },
  {
   "cell_type": "code",
   "execution_count": 0,
   "metadata": {
    "colab": {},
    "colab_type": "code",
    "id": "rqa1FkaMviD9"
   },
   "outputs": [],
   "source": [
    "def build_model():\n",
    "  model = keras.Sequential([\n",
    "    layers.Dense(64, activation=tf.nn.relu, input_shape=[len(train_dataset.keys())]),\n",
    "    layers.Dense(64, activation=tf.nn.relu),\n",
    "    layers.Dense(1)\n",
    "  ])\n",
    "\n",
    "  optimizer = tf.train.RMSPropOptimizer(0.001)\n",
    "\n",
    "  model.compile(loss='mse',\n",
    "                optimizer=optimizer,\n",
    "                metrics=['mae', 'mse'])\n",
    "  return model"
   ]
  },
  {
   "cell_type": "code",
   "execution_count": 0,
   "metadata": {
    "colab": {},
    "colab_type": "code",
    "id": "KxUgPznUvl8t"
   },
   "outputs": [],
   "source": [
    "model = build_model()"
   ]
  },
  {
   "cell_type": "code",
   "execution_count": 0,
   "metadata": {
    "colab": {
     "base_uri": "https://localhost:8080/",
     "height": 243
    },
    "colab_type": "code",
    "executionInfo": {
     "elapsed": 3740,
     "status": "ok",
     "timestamp": 1545099728477,
     "user": {
      "displayName": "Umut Seven",
      "photoUrl": "https://lh5.googleusercontent.com/-2XJWX37lPMI/AAAAAAAAAAI/AAAAAAAAAUM/qlpjCmgkzwo/s64/photo.jpg",
      "userId": "04116959552671656878"
     },
     "user_tz": -180
    },
    "id": "uYNMepRrv0t7",
    "outputId": "92a88695-f853-4eb3-cbf7-ec0344fc55e8"
   },
   "outputs": [
    {
     "name": "stdout",
     "output_type": "stream",
     "text": [
      "_________________________________________________________________\n",
      "Layer (type)                 Output Shape              Param #   \n",
      "=================================================================\n",
      "dense (Dense)                (None, 64)                1216      \n",
      "_________________________________________________________________\n",
      "dense_1 (Dense)              (None, 64)                4160      \n",
      "_________________________________________________________________\n",
      "dense_2 (Dense)              (None, 1)                 65        \n",
      "=================================================================\n",
      "Total params: 5,441\n",
      "Trainable params: 5,441\n",
      "Non-trainable params: 0\n",
      "_________________________________________________________________\n"
     ]
    }
   ],
   "source": [
    "model.summary()"
   ]
  },
  {
   "cell_type": "code",
   "execution_count": 0,
   "metadata": {
    "colab": {
     "base_uri": "https://localhost:8080/",
     "height": 191
    },
    "colab_type": "code",
    "executionInfo": {
     "elapsed": 104572,
     "status": "ok",
     "timestamp": 1545099829399,
     "user": {
      "displayName": "Umut Seven",
      "photoUrl": "https://lh5.googleusercontent.com/-2XJWX37lPMI/AAAAAAAAAAI/AAAAAAAAAUM/qlpjCmgkzwo/s64/photo.jpg",
      "userId": "04116959552671656878"
     },
     "user_tz": -180
    },
    "id": "GXxYn825wK5j",
    "outputId": "42fcd860-58c5-45bf-e04f-cf0163e80416"
   },
   "outputs": [
    {
     "name": "stdout",
     "output_type": "stream",
     "text": [
      "Epoch 0\n",
      "Epoch 100\n",
      "Epoch 200\n",
      "Epoch 300\n",
      "Epoch 400\n",
      "Epoch 500\n",
      "Epoch 600\n",
      "Epoch 700\n",
      "Epoch 800\n",
      "Epoch 900\n"
     ]
    }
   ],
   "source": [
    "class PrintEpoch(keras.callbacks.Callback):\n",
    "  def on_epoch_end(self, epoch, logs):\n",
    "    if epoch % 100 == 0:\n",
    "      print(f'Epoch {epoch}')\n",
    "\n",
    "EPOCHS = 1000\n",
    "\n",
    "history = model.fit(\n",
    "  normed_train_data, train_labels,\n",
    "  epochs=EPOCHS, validation_split = 0.2, verbose=0,\n",
    "  callbacks=[PrintEpoch()])"
   ]
  },
  {
   "cell_type": "code",
   "execution_count": 0,
   "metadata": {
    "colab": {
     "base_uri": "https://localhost:8080/",
     "height": 206
    },
    "colab_type": "code",
    "executionInfo": {
     "elapsed": 104505,
     "status": "ok",
     "timestamp": 1545099829432,
     "user": {
      "displayName": "Umut Seven",
      "photoUrl": "https://lh5.googleusercontent.com/-2XJWX37lPMI/AAAAAAAAAAI/AAAAAAAAAUM/qlpjCmgkzwo/s64/photo.jpg",
      "userId": "04116959552671656878"
     },
     "user_tz": -180
    },
    "id": "aqTHplng2XAx",
    "outputId": "19a3a1d6-a774-4b06-9822-e6743025e4bb"
   },
   "outputs": [
    {
     "data": {
      "text/html": [
       "<div>\n",
       "<style scoped>\n",
       "    .dataframe tbody tr th:only-of-type {\n",
       "        vertical-align: middle;\n",
       "    }\n",
       "\n",
       "    .dataframe tbody tr th {\n",
       "        vertical-align: top;\n",
       "    }\n",
       "\n",
       "    .dataframe thead th {\n",
       "        text-align: right;\n",
       "    }\n",
       "</style>\n",
       "<table border=\"1\" class=\"dataframe\">\n",
       "  <thead>\n",
       "    <tr style=\"text-align: right;\">\n",
       "      <th></th>\n",
       "      <th>loss</th>\n",
       "      <th>mean_absolute_error</th>\n",
       "      <th>mean_squared_error</th>\n",
       "      <th>val_loss</th>\n",
       "      <th>val_mean_absolute_error</th>\n",
       "      <th>val_mean_squared_error</th>\n",
       "      <th>epoch</th>\n",
       "    </tr>\n",
       "  </thead>\n",
       "  <tbody>\n",
       "    <tr>\n",
       "      <th>995</th>\n",
       "      <td>818.644477</td>\n",
       "      <td>21.328021</td>\n",
       "      <td>818.644477</td>\n",
       "      <td>788.048356</td>\n",
       "      <td>21.586534</td>\n",
       "      <td>788.048356</td>\n",
       "      <td>995</td>\n",
       "    </tr>\n",
       "    <tr>\n",
       "      <th>996</th>\n",
       "      <td>818.899496</td>\n",
       "      <td>21.333306</td>\n",
       "      <td>818.899496</td>\n",
       "      <td>788.914131</td>\n",
       "      <td>21.556206</td>\n",
       "      <td>788.914131</td>\n",
       "      <td>996</td>\n",
       "    </tr>\n",
       "    <tr>\n",
       "      <th>997</th>\n",
       "      <td>818.652776</td>\n",
       "      <td>21.317855</td>\n",
       "      <td>818.652776</td>\n",
       "      <td>803.382922</td>\n",
       "      <td>21.460686</td>\n",
       "      <td>803.382922</td>\n",
       "      <td>997</td>\n",
       "    </tr>\n",
       "    <tr>\n",
       "      <th>998</th>\n",
       "      <td>816.489253</td>\n",
       "      <td>21.311615</td>\n",
       "      <td>816.489253</td>\n",
       "      <td>823.697435</td>\n",
       "      <td>21.498280</td>\n",
       "      <td>823.697435</td>\n",
       "      <td>998</td>\n",
       "    </tr>\n",
       "    <tr>\n",
       "      <th>999</th>\n",
       "      <td>818.890098</td>\n",
       "      <td>21.318888</td>\n",
       "      <td>818.890098</td>\n",
       "      <td>797.312827</td>\n",
       "      <td>21.470914</td>\n",
       "      <td>797.312827</td>\n",
       "      <td>999</td>\n",
       "    </tr>\n",
       "  </tbody>\n",
       "</table>\n",
       "</div>"
      ],
      "text/plain": [
       "           loss  mean_absolute_error  mean_squared_error    val_loss  \\\n",
       "995  818.644477            21.328021          818.644477  788.048356   \n",
       "996  818.899496            21.333306          818.899496  788.914131   \n",
       "997  818.652776            21.317855          818.652776  803.382922   \n",
       "998  816.489253            21.311615          816.489253  823.697435   \n",
       "999  818.890098            21.318888          818.890098  797.312827   \n",
       "\n",
       "     val_mean_absolute_error  val_mean_squared_error  epoch  \n",
       "995                21.586534              788.048356    995  \n",
       "996                21.556206              788.914131    996  \n",
       "997                21.460686              803.382922    997  \n",
       "998                21.498280              823.697435    998  \n",
       "999                21.470914              797.312827    999  "
      ]
     },
     "execution_count": 13,
     "metadata": {
      "tags": []
     },
     "output_type": "execute_result"
    }
   ],
   "source": [
    "hist = pd.DataFrame(history.history)\n",
    "hist['epoch'] = history.epoch\n",
    "hist.tail()"
   ]
  },
  {
   "cell_type": "code",
   "execution_count": 0,
   "metadata": {
    "colab": {
     "base_uri": "https://localhost:8080/",
     "height": 705
    },
    "colab_type": "code",
    "executionInfo": {
     "elapsed": 105121,
     "status": "ok",
     "timestamp": 1545099830135,
     "user": {
      "displayName": "Umut Seven",
      "photoUrl": "https://lh5.googleusercontent.com/-2XJWX37lPMI/AAAAAAAAAAI/AAAAAAAAAUM/qlpjCmgkzwo/s64/photo.jpg",
      "userId": "04116959552671656878"
     },
     "user_tz": -180
    },
    "id": "FoNaMM5h2JG0",
    "outputId": "ffd8a67d-db9b-4365-ed02-a322f27336cc"
   },
   "outputs": [
    {
     "data": {
      "image/png": "[encoded data removed]",
      "text/plain": [
       "<matplotlib.figure.Figure at 0x7f1cf34b6630>"
      ]
     },
     "metadata": {
      "tags": []
     },
     "output_type": "display_data"
    },
    {
     "data": {
      "image/png": "[encoded data removed]",
      "text/plain": [
       "<matplotlib.figure.Figure at 0x7f1cf3465898>"
      ]
     },
     "metadata": {
      "tags": []
     },
     "output_type": "display_data"
    }
   ],
   "source": [
    "def plot_history(history):\n",
    "  plt.figure()\n",
    "  plt.xlabel('Epoch')\n",
    "  plt.ylabel('Mean Abs Error [Trailer Duration]')\n",
    "  plt.plot(hist['epoch'], hist['mean_absolute_error'],\n",
    "           label='Train Error')\n",
    "  plt.plot(hist['epoch'], hist['val_mean_absolute_error'],\n",
    "           label = 'Val Error')\n",
    "  plt.legend()\n",
    "  \n",
    "  plt.figure()\n",
    "  plt.xlabel('Epoch')\n",
    "  plt.ylabel('Mean Square Error [$Trailer Duration^2$]')\n",
    "  plt.plot(hist['epoch'], hist['mean_squared_error'],\n",
    "           label='Train Error')\n",
    "  plt.plot(hist['epoch'], hist['val_mean_squared_error'],\n",
    "           label = 'Val Error')\n",
    "  plt.legend()\n",
    "\n",
    "plot_history(history)\n"
   ]
  },
  {
   "cell_type": "code",
   "execution_count": 0,
   "metadata": {
    "colab": {
     "base_uri": "https://localhost:8080/",
     "height": 722
    },
    "colab_type": "code",
    "executionInfo": {
     "elapsed": 111984,
     "status": "ok",
     "timestamp": 1545099837076,
     "user": {
      "displayName": "Umut Seven",
      "photoUrl": "https://lh5.googleusercontent.com/-2XJWX37lPMI/AAAAAAAAAAI/AAAAAAAAAUM/qlpjCmgkzwo/s64/photo.jpg",
      "userId": "04116959552671656878"
     },
     "user_tz": -180
    },
    "id": "-aTwkiI-3NZk",
    "outputId": "1987f30c-acf6-40f1-b468-45bfe0f1d21d"
   },
   "outputs": [
    {
     "name": "stdout",
     "output_type": "stream",
     "text": [
      "Epoch 0\n"
     ]
    },
    {
     "data": {
      "image/png": "[encoded data removed]",
      "text/plain": [
       "<matplotlib.figure.Figure at 0x7f1cf3359400>"
      ]
     },
     "metadata": {
      "tags": []
     },
     "output_type": "display_data"
    },
    {
     "data": {
      "image/png": "[encoded data removed]",
      "text/plain": [
       "<matplotlib.figure.Figure at 0x7f1cf2f66cf8>"
      ]
     },
     "metadata": {
      "tags": []
     },
     "output_type": "display_data"
    }
   ],
   "source": [
    "model = build_model()\n",
    "\n",
    "early_stop = keras.callbacks.EarlyStopping(monitor='val_loss', patience=50)\n",
    "\n",
    "history = model.fit(normed_train_data, train_labels, epochs=EPOCHS,\n",
    "                    validation_split = 0.2, verbose=0, callbacks=[early_stop, PrintEpoch()])\n",
    "\n",
    "plot_history(history)\n"
   ]
  },
  {
   "cell_type": "code",
   "execution_count": 0,
   "metadata": {
    "colab": {
     "base_uri": "https://localhost:8080/",
     "height": 206
    },
    "colab_type": "code",
    "executionInfo": {
     "elapsed": 111918,
     "status": "ok",
     "timestamp": 1545099837092,
     "user": {
      "displayName": "Umut Seven",
      "photoUrl": "https://lh5.googleusercontent.com/-2XJWX37lPMI/AAAAAAAAAAI/AAAAAAAAAUM/qlpjCmgkzwo/s64/photo.jpg",
      "userId": "04116959552671656878"
     },
     "user_tz": -180
    },
    "id": "pTTvebUnDEF9",
    "outputId": "ff2c96c3-08c3-460d-ba43-6ff1c106b598"
   },
   "outputs": [
    {
     "data": {
      "text/html": [
       "<div>\n",
       "<style scoped>\n",
       "    .dataframe tbody tr th:only-of-type {\n",
       "        vertical-align: middle;\n",
       "    }\n",
       "\n",
       "    .dataframe tbody tr th {\n",
       "        vertical-align: top;\n",
       "    }\n",
       "\n",
       "    .dataframe thead th {\n",
       "        text-align: right;\n",
       "    }\n",
       "</style>\n",
       "<table border=\"1\" class=\"dataframe\">\n",
       "  <thead>\n",
       "    <tr style=\"text-align: right;\">\n",
       "      <th></th>\n",
       "      <th>loss</th>\n",
       "      <th>mean_absolute_error</th>\n",
       "      <th>mean_squared_error</th>\n",
       "      <th>val_loss</th>\n",
       "      <th>val_mean_absolute_error</th>\n",
       "      <th>val_mean_squared_error</th>\n",
       "      <th>epoch</th>\n",
       "    </tr>\n",
       "  </thead>\n",
       "  <tbody>\n",
       "    <tr>\n",
       "      <th>52</th>\n",
       "      <td>819.333701</td>\n",
       "      <td>21.368640</td>\n",
       "      <td>819.333701</td>\n",
       "      <td>788.679419</td>\n",
       "      <td>21.524882</td>\n",
       "      <td>788.679419</td>\n",
       "      <td>52</td>\n",
       "    </tr>\n",
       "    <tr>\n",
       "      <th>53</th>\n",
       "      <td>818.331934</td>\n",
       "      <td>21.300845</td>\n",
       "      <td>818.331934</td>\n",
       "      <td>785.298790</td>\n",
       "      <td>21.722308</td>\n",
       "      <td>785.298790</td>\n",
       "      <td>53</td>\n",
       "    </tr>\n",
       "    <tr>\n",
       "      <th>54</th>\n",
       "      <td>818.431916</td>\n",
       "      <td>21.324804</td>\n",
       "      <td>818.431916</td>\n",
       "      <td>788.744727</td>\n",
       "      <td>21.610886</td>\n",
       "      <td>788.744727</td>\n",
       "      <td>54</td>\n",
       "    </tr>\n",
       "    <tr>\n",
       "      <th>55</th>\n",
       "      <td>817.788542</td>\n",
       "      <td>21.290838</td>\n",
       "      <td>817.788542</td>\n",
       "      <td>794.446693</td>\n",
       "      <td>21.544094</td>\n",
       "      <td>794.446693</td>\n",
       "      <td>55</td>\n",
       "    </tr>\n",
       "    <tr>\n",
       "      <th>56</th>\n",
       "      <td>819.058317</td>\n",
       "      <td>21.356226</td>\n",
       "      <td>819.058317</td>\n",
       "      <td>790.171972</td>\n",
       "      <td>21.643331</td>\n",
       "      <td>790.171972</td>\n",
       "      <td>56</td>\n",
       "    </tr>\n",
       "  </tbody>\n",
       "</table>\n",
       "</div>"
      ],
      "text/plain": [
       "          loss  mean_absolute_error  mean_squared_error    val_loss  \\\n",
       "52  819.333701            21.368640          819.333701  788.679419   \n",
       "53  818.331934            21.300845          818.331934  785.298790   \n",
       "54  818.431916            21.324804          818.431916  788.744727   \n",
       "55  817.788542            21.290838          817.788542  794.446693   \n",
       "56  819.058317            21.356226          819.058317  790.171972   \n",
       "\n",
       "    val_mean_absolute_error  val_mean_squared_error  epoch  \n",
       "52                21.524882              788.679419     52  \n",
       "53                21.722308              785.298790     53  \n",
       "54                21.610886              788.744727     54  \n",
       "55                21.544094              794.446693     55  \n",
       "56                21.643331              790.171972     56  "
      ]
     },
     "execution_count": 16,
     "metadata": {
      "tags": []
     },
     "output_type": "execute_result"
    }
   ],
   "source": [
    "hist = pd.DataFrame(history.history)\n",
    "hist['epoch'] = history.epoch\n",
    "hist.tail()"
   ]
  },
  {
   "cell_type": "code",
   "execution_count": 0,
   "metadata": {
    "colab": {
     "base_uri": "https://localhost:8080/",
     "height": 34
    },
    "colab_type": "code",
    "executionInfo": {
     "elapsed": 111823,
     "status": "ok",
     "timestamp": 1545099837107,
     "user": {
      "displayName": "Umut Seven",
      "photoUrl": "https://lh5.googleusercontent.com/-2XJWX37lPMI/AAAAAAAAAAI/AAAAAAAAAUM/qlpjCmgkzwo/s64/photo.jpg",
      "userId": "04116959552671656878"
     },
     "user_tz": -180
    },
    "id": "n3YiSSe73qKO",
    "outputId": "1cbfa024-46de-4a27-8513-7d0f471bcb96"
   },
   "outputs": [
    {
     "name": "stdout",
     "output_type": "stream",
     "text": [
      "Testing set Mean Abs Error: 20.97 Trailer Duration in seconds\n"
     ]
    }
   ],
   "source": [
    "loss, mae, mse = model.evaluate(normed_test_data, test_labels, verbose=0)\n",
    "\n",
    "print(\"Testing set Mean Abs Error: {:5.2f} Trailer Duration in seconds\".format(mae))"
   ]
  },
  {
   "cell_type": "code",
   "execution_count": 0,
   "metadata": {
    "colab": {
     "base_uri": "https://localhost:8080/",
     "height": 34
    },
    "colab_type": "code",
    "executionInfo": {
     "elapsed": 722,
     "status": "ok",
     "timestamp": 1545100009023,
     "user": {
      "displayName": "Umut Seven",
      "photoUrl": "https://lh5.googleusercontent.com/-2XJWX37lPMI/AAAAAAAAAAI/AAAAAAAAAUM/qlpjCmgkzwo/s64/photo.jpg",
      "userId": "04116959552671656878"
     },
     "user_tz": -180
    },
    "id": "27n_VKkA5rA_",
    "outputId": "be3e99ff-1ed7-43b3-b442-9126b3fb0a6d"
   },
   "outputs": [
    {
     "data": {
      "text/plain": [
       "array([[139.04176]], dtype=float32)"
      ]
     },
     "execution_count": 24,
     "metadata": {
      "tags": []
     },
     "output_type": "execute_result"
    }
   ],
   "source": [
    "d = {'Action': [1.0]}\n",
    "d['Comedy'] = [0.0]\n",
    "d['Drama'] = [0.0]\n",
    "d['Mystery'] = [0.0]\n",
    "d['Thriller'] = [0.0]\n",
    "d['Romance'] = [0.0]\n",
    "d['Crime'] = [0.0]\n",
    "d['Horror'] = [0.0]\n",
    "d['Documentary'] = [0.0]\n",
    "d['Sci-Fi'] = [0.0]\n",
    "d['Music'] = [0.0]\n",
    "d['Fantasy'] = [0.0]\n",
    "d['Western'] = [0.0]\n",
    "d['Biography'] = [0.0]\n",
    "d['Adventure'] = [0.0]\n",
    "d['Animation'] = [0.0]\n",
    "d['Family'] = [0.0]\n",
    "d['Sport'] = [0.0]\n",
    "\n",
    "df = pd.DataFrame(data=d)\n",
    "test_predictions = model.predict(df)\n",
    "test_predictions"
   ]
  }
 ],
 "metadata": {
  "colab": {
   "collapsed_sections": [],
   "name": "LaFontaine-MovieData.ipynb",
   "provenance": [],
   "version": "0.3.2"
  },
  "kernelspec": {
   "display_name": "Python 3",
   "language": "python",
   "name": "python3"
  },
  "language_info": {
   "codemirror_mode": {
    "name": "ipython",
    "version": 3
   },
   "file_extension": ".py",
   "mimetype": "text/x-python",
   "name": "python",
   "nbconvert_exporter": "python",
   "pygments_lexer": "ipython3",
   "version": "3.7.0"
  }
 },
 "nbformat": 4,
 "nbformat_minor": 1
}
